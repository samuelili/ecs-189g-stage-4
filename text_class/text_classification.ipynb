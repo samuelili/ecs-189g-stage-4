{
  "cells": [
    {
      "cell_type": "code",
      "id": "1c0236cb2c248c6e",
      "metadata": {
        "id": "1c0236cb2c248c6e",
        "ExecuteTime": {
          "end_time": "2025-05-26T03:39:38.653670Z",
          "start_time": "2025-05-26T03:39:37.914074Z"
        }
      },
      "source": [
        "# define import\n",
        "import torch\n",
        "import torch.nn as nn\n",
        "import torch.optim as optim\n",
        "from sklearn.metrics import classification_report\n",
        "from torch.nn.utils.rnn import pad_sequence\n",
        "import matplotlib.pyplot as plt\n",
        "import numpy as np"
      ],
      "outputs": [],
      "execution_count": 3
    },
    {
      "cell_type": "markdown",
      "id": "a258d92701d9161e",
      "metadata": {
        "id": "a258d92701d9161e"
      },
      "source": [
        "# Data Loading Pre-processing"
      ]
    },
    {
      "cell_type": "code",
      "id": "initial_id",
      "metadata": {
        "colab": {
          "base_uri": "https://localhost:8080/"
        },
        "collapsed": true,
        "id": "initial_id",
        "outputId": "b3a4f631-0f60-4a35-9fce-b4f32f39fb4c",
        "ExecuteTime": {
          "end_time": "2025-05-26T02:54:40.180356Z",
          "start_time": "2025-05-26T02:54:38.724963Z"
        }
      },
      "source": [
        "import pickle\n",
        "import random\n",
        "\n",
        "with open(\"text_classification_train_words\", \"rb\") as f:\n",
        "    train = pickle.load(f)\n",
        "\n",
        "with open(\"text_classification_test_words\", \"rb\") as f:\n",
        "    test = pickle.load(f)\n",
        "\n",
        "print(f\"{len(train)} samples in train\")\n",
        "print(f\"{train[random.randint(0, len(train) - 1)]}\")\n",
        "print(f\"{len(test)} samples in test\")\n",
        "print(f\"{test[random.randint(0, len(test) - 1)]}\")\n",
        "print(len(train[0]['text']))"
      ],
      "outputs": [
        {
          "output_type": "stream",
          "name": "stdout",
          "text": [
            "25000 samples in train\n",
            "{'id': '104', 'rating': 3, 'label': 0, 'text': \"En route to a small town that lays way off the beaten track (but which looks suspiciously close to a freeway), a female reporter runs into a strange hitch-hiker who agrees to help direct her to her destination. The strange man then recounts a pair of gruesome tales connected to the area: in the first story, an adulterous couple plot to kill the woman's husband, but eventually suffer a far worse fate themselves when they are attacked by a zombie; and in the second story, a group of campers have their vacation cut short when an undead outlaw takes umbrage at having his grave peed on.<br /><br />The Zombie Chronicles is an attempt by writer Garrett Clancy and director Brad Sykes at making a zombie themed anthology\\x97a nice idea, but with only two stories, it falls woefully short. And that's not the only way in which this low budget gore flick fails to deliver: the acting is lousy (with Joe Haggerty, as the tale-telling Ebenezer Jackson, giving one of the strangest performances I have ever seen); the locations are uninspired; the script is dreary; there's a sex scene with zero nudity; and the ending.... well, that beggars belief.<br /><br />To be fair, some of Sykes' creative camera-work is effective (although the gimmicky technique employed as characters run through the woods is a tad overused) and Joe Castro's cheapo gore is enthusiastic: an ear is bitten off, eyeballs are plucked out, a face is removed, brains are squished, and there is a messy decapitation. These positives just about make the film bearable, but be warned, The Zombie Chronicles ain't a stroll in the park, even for seasoned viewers of z-grade trash.<br /><br />I give The Zombie Chronicles 2/10, but generously raise my rating to 3 since I didn't get to view the film with the benefit of 3D (although I have a sneaking suspicion that an extra dimension wouldn't have made that much of a difference).\", 'words': ['en', 'route', 'small', 'town', 'lays', 'way', 'beaten', 'track', 'looks', 'suspiciously', 'close', 'freeway', 'female', 'reporter', 'runs', 'strange', 'hitchhiker', 'agrees', 'help', 'direct', 'destination', 'strange', 'man', 'recounts', 'pair', 'gruesome', 'tales', 'connected', 'area', 'first', 'story', 'adulterous', 'couple', 'plot', 'kill', 'woman', 'husband', 'eventually', 'suffer', 'far', 'worse', 'fate', 'attacked', 'zombie', 'second', 'story', 'group', 'campers', 'vacation', 'cut', 'short', 'undead', 'outlaw', 'takes', 'umbrage', 'grave', 'peed', 'br', 'br', 'zombie', 'chronicles', 'attempt', 'writer', 'garrett', 'clancy', 'director', 'brad', 'sykes', 'making', 'zombie', 'themed', 'nice', 'idea', 'two', 'stories', 'falls', 'woefully', 'short', 'way', 'low', 'budget', 'gore', 'flick', 'fails', 'deliver', 'acting', 'lousy', 'joe', 'haggerty', 'taletelling', 'ebenezer', 'jackson', 'giving', 'one', 'strangest', 'performances', 'ever', 'seen', 'locations', 'uninspired', 'script', 'dreary', 'sex', 'scene', 'zero', 'nudity', 'ending', 'well', 'beggars', 'belief', 'br', 'br', 'fair', 'sykes', 'creative', 'camerawork', 'effective', 'although', 'gimmicky', 'technique', 'employed', 'characters', 'run', 'woods', 'tad', 'overused', 'joe', 'castro', 'cheapo', 'gore', 'enthusiastic', 'ear', 'bitten', 'eyeballs', 'plucked', 'face', 'removed', 'brains', 'squished', 'messy', 'decapitation', 'positives', 'make', 'film', 'bearable', 'warned', 'zombie', 'chronicles', 'ai', 'nt', 'stroll', 'park', 'even', 'seasoned', 'viewers', 'zgrade', 'trash', 'br', 'br', 'give', 'zombie', 'chronicles', 'generously', 'raise', 'rating', 'since', 'nt', 'get', 'view', 'film', 'benefit', 'although', 'sneaking', 'suspicion', 'extra', 'dimension', 'would', 'nt', 'made', 'much', 'difference']}\n",
            "25000 samples in test\n",
            "{'id': '184', 'rating': 9, 'label': 1, 'text': \"I watched this movie on TCM last night, all excited expectation, having last seen it (twice) in its memorable 1957 release in Toronto. I told my wife, who hadn't seen it before, to watch for the thrilling long tracking shot, no cuts, where Veronika is seen on a bus on her way to find her Boris. In a hand-held frame that certainly predates the modern Steadicam, the shot then pulls back up and cranes (pun unintended) over the street as she exits the bus, and darts among the tanks to cross the road. THEN I remember that, no cuts, we follow her up close to the fence as she peers through, anxiously looking for him, but does not find him. But we do continue to follow Veronika as she searches the faces of harried recruits and their emotionally racked women, all extras, and each one a gem of riveting Stanislavskian behavior. How, one wonders, did Kalatozov and his cameraman Urusevsky set up this extraordinary sequence. But what did I see in this version? After crossing the street dodging the tanks, the scene abruptly ended, and cut back to scenes at the apartment, before continuing to the soldiers and their families at the fence. Seems to me that this film was not only restored, but also re-edited. What a downer!\", 'words': ['watched', 'movie', 'tcm', 'last', 'night', 'excited', 'expectation', 'last', 'seen', 'twice', 'memorable', 'release', 'toronto', 'told', 'wife', 'nt', 'seen', 'watch', 'thrilling', 'long', 'tracking', 'shot', 'cuts', 'veronika', 'seen', 'bus', 'way', 'find', 'boris', 'handheld', 'frame', 'certainly', 'predates', 'modern', 'steadicam', 'shot', 'pulls', 'back', 'cranes', 'pun', 'unintended', 'street', 'exits', 'bus', 'darts', 'among', 'tanks', 'cross', 'road', 'remember', 'cuts', 'follow', 'close', 'fence', 'peers', 'anxiously', 'looking', 'find', 'continue', 'follow', 'veronika', 'searches', 'faces', 'harried', 'recruits', 'emotionally', 'racked', 'women', 'extras', 'one', 'gem', 'riveting', 'stanislavskian', 'behavior', 'one', 'wonders', 'kalatozov', 'cameraman', 'urusevsky', 'set', 'extraordinary', 'sequence', 'see', 'version', 'crossing', 'street', 'dodging', 'tanks', 'scene', 'abruptly', 'ended', 'cut', 'back', 'scenes', 'apartment', 'continuing', 'soldiers', 'families', 'fence', 'seems', 'film', 'restored', 'also', 'reedited', 'downer']}\n",
            "655\n"
          ]
        }
      ],
      "execution_count": 4
    },
    {
      "cell_type": "code",
      "id": "f61adfab216d51ba",
      "metadata": {
        "colab": {
          "base_uri": "https://localhost:8080/"
        },
        "id": "f61adfab216d51ba",
        "outputId": "e97efdb4-80cf-4427-cbcc-f998cb32a653",
        "ExecuteTime": {
          "end_time": "2025-05-26T02:54:41.792356Z",
          "start_time": "2025-05-26T02:54:40.286383Z"
        }
      },
      "source": [
        "# get vocab size\n",
        "vocab = set()\n",
        "i = 0\n",
        "for sample in train + test:\n",
        "    for word in sample['words']:\n",
        "        vocab.add(word)\n",
        "\n",
        "vocab_size = len(vocab)\n",
        "print(f\"Found a vocab size of {vocab_size}\")"
      ],
      "outputs": [
        {
          "output_type": "stream",
          "name": "stdout",
          "text": [
            "Found a vocab size of 133264\n"
          ]
        }
      ],
      "execution_count": 5
    },
    {
      "cell_type": "markdown",
      "id": "422f662087b7a7aa",
      "metadata": {
        "id": "422f662087b7a7aa"
      },
      "source": [
        "## Prepare to be embeddings"
      ]
    },
    {
      "cell_type": "code",
      "id": "d43f1d11acce111c",
      "metadata": {
        "id": "d43f1d11acce111c",
        "ExecuteTime": {
          "end_time": "2025-05-26T02:54:42.074689Z",
          "start_time": "2025-05-26T02:54:41.985857Z"
        }
      },
      "source": [
        "torch.manual_seed(1)\n",
        "\n",
        "word_to_ix = {}\n",
        "\n",
        "for i, word in enumerate(vocab):\n",
        "    word_to_ix[word] = i"
      ],
      "outputs": [],
      "execution_count": 6
    },
    {
      "cell_type": "markdown",
      "id": "65934447f34331d2",
      "metadata": {
        "id": "65934447f34331d2"
      },
      "source": [
        "##  Split Training Data"
      ]
    },
    {
      "cell_type": "code",
      "id": "18407271bb55f5eb",
      "metadata": {
        "id": "18407271bb55f5eb",
        "ExecuteTime": {
          "end_time": "2025-05-26T02:55:44.165302Z",
          "start_time": "2025-05-26T02:54:42.422228Z"
        }
      },
      "source": [
        "def create_dataset(dataset):\n",
        "    X, Y = [], []\n",
        "    for data in dataset:\n",
        "        embeddings = torch.tensor([torch.tensor([word_to_ix[word]], dtype=torch.long) for word in data['words']])\n",
        "        X.append(embeddings)\n",
        "        Y.append(data['label'])\n",
        "\n",
        "    return pad_sequence(X, batch_first=True), torch.tensor(Y)\n",
        "\n",
        "\n",
        "X_train, Y_train = create_dataset(train)\n",
        "X_test, Y_test = create_dataset(test)"
      ],
      "outputs": [],
      "execution_count": 7
    },
    {
      "cell_type": "markdown",
      "id": "d7e29aaf5421f085",
      "metadata": {
        "id": "d7e29aaf5421f085"
      },
      "source": [
        "# Prepare For Training"
      ]
    },
    {
      "cell_type": "code",
      "id": "beccbd9c58e6f651",
      "metadata": {
        "colab": {
          "base_uri": "https://localhost:8080/"
        },
        "id": "beccbd9c58e6f651",
        "outputId": "52201345-63c2-4d21-e053-06ba5fd6dbb9",
        "ExecuteTime": {
          "end_time": "2025-05-26T02:55:45.585864Z",
          "start_time": "2025-05-26T02:55:44.525905Z"
        }
      },
      "source": [
        "# device\n",
        "device = torch.device(\"cuda\" if torch.cuda.is_available() else \"cpu\")\n",
        "print(f\"using device: {device}\")"
      ],
      "outputs": [
        {
          "output_type": "stream",
          "name": "stdout",
          "text": [
            "using device: cuda\n"
          ]
        }
      ],
      "execution_count": 8
    },
    {
      "metadata": {
        "id": "9c9b0f8007219ca1"
      },
      "cell_type": "markdown",
      "source": [
        "## Training Func"
      ],
      "id": "9c9b0f8007219ca1"
    },
    {
      "metadata": {
        "ExecuteTime": {
          "end_time": "2025-05-26T03:23:19.972249Z",
          "start_time": "2025-05-26T03:23:19.946549Z"
        },
        "id": "edf6db619d5e2709"
      },
      "cell_type": "code",
      "source": [
        "learning_rate = 0.001 # Keep as is, or tune\n",
        "def train_model(model, epochs):\n",
        "    # Instantiate the model\n",
        "    train_data = torch.utils.data.TensorDataset(X_train, Y_train)\n",
        "    train_loader = torch.utils.data.DataLoader(train_data, batch_size=64, shuffle=True)\n",
        "\n",
        "    val_data = torch.utils.data.TensorDataset(X_test, Y_test)\n",
        "    val_loader = torch.utils.data.DataLoader(val_data, batch_size=64, shuffle=False)\n",
        "\n",
        "    criterion = nn.CrossEntropyLoss()\n",
        "    optimizer = optim.Adam(model.parameters(), lr=learning_rate)\n",
        "\n",
        "    training_losses = []\n",
        "    val_losses = []\n",
        "\n",
        "    for epoch in range(epochs):\n",
        "        # Training phase\n",
        "        model.train()\n",
        "        train_loss_epoch = 0\n",
        "        num_batches = len(train_loader)\n",
        "        for i, (batch_X, batch_y) in enumerate(train_loader):\n",
        "            batch_X, batch_y = batch_X.to(device), batch_y.to(device)\n",
        "            outputs = model(batch_X)\n",
        "            loss = criterion(outputs, batch_y)\n",
        "\n",
        "            optimizer.zero_grad()\n",
        "            loss.backward()\n",
        "            optimizer.step()\n",
        "            train_loss_epoch += loss.item()\n",
        "            print(f\"Batch [{i}/{num_batches}]\\r\", end=\"\")\n",
        "        avg_train_loss = train_loss_epoch / len(train_loader)\n",
        "        training_losses.append(avg_train_loss)\n",
        "        print(f'Epoch [{epoch + 1}/{epochs}], Training Loss: {avg_train_loss:.4f}\\r')\n",
        "\n",
        "        # Validation phase\n",
        "        model.eval()\n",
        "        val_loss = 0\n",
        "        with torch.no_grad():\n",
        "            for batch_X_val, batch_y_val in val_loader:\n",
        "                batch_X_val, batch_y_val = batch_X_val.to(device), batch_y_val.to(device) # Uncomment if using GPU\n",
        "                outputs_val = model(batch_X_val)\n",
        "                loss_val = criterion(outputs_val, batch_y_val)\n",
        "                val_loss += loss_val.item()\n",
        "\n",
        "        avg_val_loss = val_loss / len(val_loader)\n",
        "        print(f'Epoch [{epoch + 1}/{epochs}], Validation Loss: {avg_val_loss:.4f}')\n",
        "        val_losses.append(avg_val_loss)\n",
        "\n",
        "    print(\"Training complete.\")\n",
        "    return training_losses, val_losses\n",
        "\n",
        "def test_model(model):\n",
        "    # Calculate accuracy on the test set\n",
        "    model.eval()  # Set the model to evaluation mode\n",
        "    all_predicted_labels = []\n",
        "    all_true_labels = []\n",
        "    with torch.no_grad():\n",
        "        correct = 0\n",
        "        total = 0\n",
        "        # Create a DataLoader for the test set\n",
        "        test_loader = torch.utils.data.DataLoader(torch.utils.data.TensorDataset(X_test, Y_test), batch_size=64, shuffle=False)\n",
        "        for batch_X_test, batch_y_test in test_loader:\n",
        "            batch_X_test, batch_y_test = batch_X_test.to(device), batch_y_test.to(device)\n",
        "            outputs_test = model(batch_X_test)\n",
        "            _, predicted = torch.max(outputs_test.data, 1)\n",
        "            total += batch_y_test.size(0)\n",
        "            correct += (predicted == batch_y_test).sum().item()\n",
        "\n",
        "            all_true_labels.extend(batch_y_test.cpu().numpy())\n",
        "            all_predicted_labels.extend(predicted.cpu().numpy())\n",
        "\n",
        "        accuracy = 100 * correct / total\n",
        "        print(f'Accuracy of the model on the test data: {accuracy:.2f}%')\n",
        "\n",
        "        report = classification_report(all_true_labels, all_predicted_labels, target_names=[\"Negative\", \"Positive\"])\n",
        "        return report"
      ],
      "id": "edf6db619d5e2709",
      "outputs": [],
      "execution_count": 9
    },
    {
      "metadata": {
        "id": "8847bc1931cb8cca"
      },
      "cell_type": "markdown",
      "source": [
        "# RNN Model"
      ],
      "id": "8847bc1931cb8cca"
    },
    {
      "metadata": {
        "ExecuteTime": {
          "end_time": "2025-05-26T03:30:30.081350Z",
          "start_time": "2025-05-26T03:30:30.057071Z"
        },
        "id": "8f078f2751686ca7"
      },
      "cell_type": "code",
      "source": [
        "# define our model class\n",
        "class RNN(nn.Module):\n",
        "    def __init__(self, vocab_size, embedding_dim, rnn1_hidden_size, rnn2_hidden_size, dense_hidden_size, dropout_p=0.5):\n",
        "        super(RNN, self).__init__()\n",
        "        self.embedding = nn.Embedding(vocab_size, embedding_dim)\n",
        "        self.dropout_embed = nn.Dropout(dropout_p)\n",
        "\n",
        "        self.rnn1 = nn.RNN(embedding_dim,\n",
        "                           rnn1_hidden_size,\n",
        "                           num_layers=1,\n",
        "                           batch_first=True,\n",
        "                           bidirectional=True)\n",
        "        self.dropout_rnn1 = nn.Dropout(dropout_p)\n",
        "\n",
        "        self.rnn2 = nn.RNN(rnn1_hidden_size * 2,\n",
        "                           rnn2_hidden_size,\n",
        "                           num_layers=1,\n",
        "                           batch_first=True,\n",
        "                           bidirectional=True)\n",
        "        self.dropout_rnn2 = nn.Dropout(dropout_p)\n",
        "\n",
        "        self.fc1 = nn.Linear(rnn2_hidden_size * 2, dense_hidden_size)\n",
        "        self.relu = nn.ReLU()\n",
        "        self.dropout_fc1 = nn.Dropout(dropout_p)\n",
        "\n",
        "        # Final output layer\n",
        "        self.fc2 = nn.Linear(dense_hidden_size, 2)\n",
        "\n",
        "    def forward(self, x):\n",
        "        x = self.embedding(x)\n",
        "        x = self.dropout_embed(x) # Shape: (batch_size, seq_len, embedding_dim)\n",
        "\n",
        "        rnn1_out, _ = self.rnn1(x)\n",
        "        rnn1_out = self.dropout_rnn1(rnn1_out)\n",
        "\n",
        "        _, hn_rnn2 = self.rnn2(rnn1_out)\n",
        "\n",
        "        hidden_combined = torch.cat((hn_rnn2[0, :, :], hn_rnn2[1, :, :]), dim=1)\n",
        "\n",
        "        out_fc1 = self.fc1(hidden_combined)\n",
        "        out_relu = self.relu(out_fc1)\n",
        "        out_dropout_fc1 = self.dropout_fc1(out_relu)\n",
        "\n",
        "        # Final output layer\n",
        "        out = self.fc2(out_dropout_fc1) # Shape: (batch_size, output_size)\n",
        "        return out"
      ],
      "id": "8f078f2751686ca7",
      "outputs": [],
      "execution_count": 10
    },
    {
      "metadata": {
        "ExecuteTime": {
          "end_time": "2025-05-26T03:37:18.555451Z",
          "start_time": "2025-05-26T03:30:32.000238Z"
        },
        "id": "dfa011442430425",
        "outputId": "5f82265b-d4ab-4d9e-ca40-6bc34462bf68",
        "colab": {
          "base_uri": "https://localhost:8080/"
        }
      },
      "cell_type": "code",
      "source": [
        "embedding_dim = 256\n",
        "rnn1_hidden_size = 128\n",
        "rnn2_hidden_size = 64\n",
        "dense_hidden_size = 64\n",
        "dropout_rate = 0.2\n",
        "epochs = 10  # Number of epochs\n",
        "\n",
        "# Instantiate the model\n",
        "rnn_model = RNN(vocab_size, embedding_dim, rnn1_hidden_size, rnn2_hidden_size, dense_hidden_size).to(device)\n",
        "rnn_training_losses, rnn_val_losses = train_model(rnn_model, epochs)"
      ],
      "id": "dfa011442430425",
      "outputs": [
        {
          "output_type": "stream",
          "name": "stdout",
          "text": [
            "Epoch [1/10], Training Loss: 0.6891\n",
            "Epoch [1/10], Validation Loss: 0.6887\n",
            "Epoch [2/10], Training Loss: 0.6443\n",
            "Epoch [2/10], Validation Loss: 0.6143\n",
            "Epoch [3/10], Training Loss: 0.6287\n",
            "Epoch [3/10], Validation Loss: 0.6551\n",
            "Epoch [4/10], Training Loss: 0.6400\n",
            "Epoch [4/10], Validation Loss: 0.5965\n",
            "Epoch [5/10], Training Loss: 0.5999\n",
            "Epoch [5/10], Validation Loss: 0.5799\n",
            "Epoch [6/10], Training Loss: 0.5676\n",
            "Epoch [6/10], Validation Loss: 0.5992\n",
            "Epoch [7/10], Training Loss: 0.5806\n",
            "Epoch [7/10], Validation Loss: 0.6306\n",
            "Epoch [8/10], Training Loss: 0.5559\n",
            "Epoch [8/10], Validation Loss: 0.5546\n",
            "Epoch [9/10], Training Loss: 0.5138\n",
            "Epoch [9/10], Validation Loss: 0.5547\n",
            "Epoch [10/10], Training Loss: 0.4994\n",
            "Epoch [10/10], Validation Loss: 0.5878\n",
            "Training complete.\n"
          ]
        }
      ],
      "execution_count": 38
    },
    {
      "metadata": {
        "ExecuteTime": {
          "end_time": "2025-05-26T03:37:57.230475Z",
          "start_time": "2025-05-26T03:37:31.915918Z"
        },
        "id": "59f0c6e8746366f0",
        "outputId": "433d3907-5d68-4753-a30a-61f8fca56558",
        "colab": {
          "base_uri": "https://localhost:8080/"
        }
      },
      "cell_type": "code",
      "source": [
        "report = test_model(rnn_model)\n",
        "print(report)"
      ],
      "id": "59f0c6e8746366f0",
      "outputs": [
        {
          "output_type": "stream",
          "name": "stdout",
          "text": [
            "Accuracy of the model on the test data: 71.78%\n",
            "              precision    recall  f1-score   support\n",
            "\n",
            "    Negative       0.79      0.59      0.68     12500\n",
            "    Positive       0.67      0.84      0.75     12500\n",
            "\n",
            "    accuracy                           0.72     25000\n",
            "   macro avg       0.73      0.72      0.71     25000\n",
            "weighted avg       0.73      0.72      0.71     25000\n",
            "\n"
          ]
        }
      ],
      "execution_count": 39
    },
    {
      "metadata": {
        "ExecuteTime": {
          "end_time": "2025-05-26T03:39:42.307257Z",
          "start_time": "2025-05-26T03:39:42.077230Z"
        },
        "id": "de65ea67ba532638",
        "outputId": "b3b89f8c-afc8-4624-b353-22b653ee6244",
        "colab": {
          "base_uri": "https://localhost:8080/",
          "height": 872
        }
      },
      "cell_type": "code",
      "source": [
        "plt.figure(figsize=(10, 10))\n",
        "plt.plot(rnn_training_losses, label='Validation Loss', color='blue')\n",
        "plt.title(\"Training Loss over Epoch\")\n",
        "plt.xlabel('Epoch')\n",
        "plt.ylabel('Loss')\n",
        "plt.grid(True)\n",
        "plt.legend()\n",
        "plt.show()"
      ],
      "id": "de65ea67ba532638",
      "outputs": [
        {
          "output_type": "display_data",
          "data": {
            "text/plain": [
              "<Figure size 1000x1000 with 1 Axes>"
            ],
            "image/png": "[encoded data removed]"
          },
          "metadata": {}
        }
      ],
      "execution_count": 41
    },
    {
      "metadata": {
        "ExecuteTime": {
          "end_time": "2025-05-26T02:55:58.386828Z",
          "start_time": "2025-05-26T02:55:58.368265Z"
        },
        "id": "d250f552cab7ef9c"
      },
      "cell_type": "code",
      "source": [
        "# define our model class\n",
        "class GRU(nn.Module):\n",
        "    def __init__(self, vocab_size, embedding_dim, gru1_hidden_size, gru2_hidden_size, dense_hidden_size, output_size, dropout_p=0.5):\n",
        "        super(GRU, self).__init__()\n",
        "        self.embedding = nn.Embedding(vocab_size, embedding_dim)\n",
        "        self.dropout_embed = nn.Dropout(dropout_p)\n",
        "\n",
        "        self.gru1 = nn.GRU(embedding_dim,\n",
        "                           gru1_hidden_size,\n",
        "                           num_layers=1,\n",
        "                           batch_first=True,\n",
        "                           bidirectional=True)\n",
        "        self.dropout_gru1 = nn.Dropout(dropout_p)\n",
        "\n",
        "        self.gru2 = nn.GRU(gru1_hidden_size * 2,\n",
        "                           gru2_hidden_size,\n",
        "                           num_layers=1,\n",
        "                           batch_first=True,\n",
        "                           bidirectional=True)\n",
        "        self.dropout_gru2 = nn.Dropout(dropout_p)\n",
        "\n",
        "        self.fc1 = nn.Linear(gru2_hidden_size * 2, dense_hidden_size)\n",
        "        self.relu = nn.ReLU()\n",
        "        self.dropout_fc1 = nn.Dropout(dropout_p)\n",
        "\n",
        "        # Final output layer\n",
        "        self.fc2 = nn.Linear(dense_hidden_size, output_size)\n",
        "\n",
        "    def forward(self, x):\n",
        "        x = self.embedding(x)\n",
        "        x = self.dropout_embed(x) # Shape: (batch_size, seq_len, embedding_dim)\n",
        "\n",
        "        gru1_out, _ = self.gru1(x)\n",
        "        gru1_out = self.dropout_gru1(gru1_out)\n",
        "\n",
        "        _, hn_gru2 = self.gru2(gru1_out)\n",
        "\n",
        "        hidden_combined = torch.cat((hn_gru2[0, :, :], hn_gru2[1, :, :]), dim=1)\n",
        "\n",
        "        out_fc1 = self.fc1(hidden_combined)\n",
        "        out_relu = self.relu(out_fc1)\n",
        "        out_dropout_fc1 = self.dropout_fc1(out_relu)\n",
        "\n",
        "        # Final output layer\n",
        "        out = self.fc2(out_dropout_fc1) # Shape: (batch_size, output_size)\n",
        "        return out"
      ],
      "id": "d250f552cab7ef9c",
      "outputs": [],
      "execution_count": 15
    },
    {
      "metadata": {
        "ExecuteTime": {
          "end_time": "2025-05-26T03:11:13.136855Z",
          "start_time": "2025-05-26T03:03:24.063461Z"
        },
        "id": "91a473b4c8b19730",
        "outputId": "c7829130-6804-4417-fdf4-ec43e63159af",
        "colab": {
          "base_uri": "https://localhost:8080/"
        }
      },
      "cell_type": "code",
      "source": [
        "embedding_dim = 256\n",
        "gru1_hidden_size = 128\n",
        "gru2_hidden_size = 64\n",
        "dense_hidden_size = 64\n",
        "dropout_rate = 0.2\n",
        "\n",
        "output_size = 2 # binary classification (remains the same)\n",
        "learning_rate = 0.001 # Keep as is, or tune\n",
        "epochs = 10  # Keep as is, or tune\n",
        "\n",
        "# Instantiate the model with new parameters\n",
        "gru_model = GRU(vocab_size,\n",
        "            embedding_dim,\n",
        "            gru1_hidden_size,\n",
        "            gru2_hidden_size,\n",
        "            dense_hidden_size,\n",
        "            output_size,\n",
        "            dropout_p=dropout_rate).to(device)\n",
        "gru_training_losses, gru_val_losses = train_model(gru_model, epochs)"
      ],
      "id": "91a473b4c8b19730",
      "outputs": [
        {
          "output_type": "stream",
          "name": "stdout",
          "text": [
            "Epoch [1/10], Training Loss: 0.5550\n",
            "Epoch [1/10], Validation Loss: 0.3824\n",
            "Epoch [2/10], Training Loss: 0.3073\n",
            "Epoch [2/10], Validation Loss: 0.3512\n",
            "Epoch [3/10], Training Loss: 0.1999\n",
            "Epoch [3/10], Validation Loss: 0.3166\n",
            "Epoch [4/10], Training Loss: 0.1304\n",
            "Epoch [4/10], Validation Loss: 0.3899\n",
            "Epoch [5/10], Training Loss: 0.0882\n",
            "Epoch [5/10], Validation Loss: 0.4319\n",
            "Epoch [6/10], Training Loss: 0.0582\n",
            "Epoch [6/10], Validation Loss: 0.4569\n",
            "Epoch [7/10], Training Loss: 0.0431\n",
            "Epoch [7/10], Validation Loss: 0.5582\n",
            "Epoch [8/10], Training Loss: 0.0332\n",
            "Epoch [8/10], Validation Loss: 0.5694\n",
            "Epoch [9/10], Training Loss: 0.0269\n",
            "Epoch [9/10], Validation Loss: 0.6792\n",
            "Epoch [10/10], Training Loss: 0.0228\n",
            "Epoch [10/10], Validation Loss: 0.6795\n",
            "Training complete.\n"
          ]
        }
      ],
      "execution_count": 42
    },
    {
      "metadata": {
        "id": "5408a01860f6b771",
        "outputId": "dd599039-0b90-4533-cd2c-6bfceb36a311",
        "colab": {
          "base_uri": "https://localhost:8080/"
        }
      },
      "cell_type": "code",
      "outputs": [
        {
          "output_type": "stream",
          "name": "stdout",
          "text": [
            "Accuracy of the model on the test data: 86.41%\n",
            "              precision    recall  f1-score   support\n",
            "\n",
            "    Negative       0.86      0.86      0.86     12500\n",
            "    Positive       0.86      0.87      0.86     12500\n",
            "\n",
            "    accuracy                           0.86     25000\n",
            "   macro avg       0.86      0.86      0.86     25000\n",
            "weighted avg       0.86      0.86      0.86     25000\n",
            "\n"
          ]
        }
      ],
      "execution_count": 43,
      "source": [
        "report = test_model(gru_model)\n",
        "print(report)"
      ],
      "id": "5408a01860f6b771"
    },
    {
      "metadata": {
        "id": "18060b8ae08c2a98",
        "outputId": "cb49cb52-1d3d-4ce2-afdd-349c1043b970",
        "colab": {
          "base_uri": "https://localhost:8080/",
          "height": 872
        }
      },
      "cell_type": "code",
      "outputs": [
        {
          "output_type": "display_data",
          "data": {
            "text/plain": [
              "<Figure size 1000x1000 with 1 Axes>"
            ],
            "image/png": "[encoded data removed]"
          },
          "metadata": {}
        }
      ],
      "execution_count": 44,
      "source": [
        "plt.figure(figsize=(10, 10))\n",
        "plt.plot(gru_training_losses, label='Validation Loss', color='blue')\n",
        "plt.title(\"Training Loss over Epoch\")\n",
        "plt.xlabel('Epoch')\n",
        "plt.ylabel('Loss')\n",
        "plt.grid(True)\n",
        "plt.legend()\n",
        "plt.show()"
      ],
      "id": "18060b8ae08c2a98"
    },
    {
      "metadata": {
        "id": "99b4e4f2ce14aa81"
      },
      "cell_type": "markdown",
      "source": [
        "# LSTM Model"
      ],
      "id": "99b4e4f2ce14aa81"
    },
    {
      "cell_type": "code",
      "id": "e2323b225572426c",
      "metadata": {
        "id": "e2323b225572426c",
        "ExecuteTime": {
          "end_time": "2025-05-26T02:55:54.694404700Z",
          "start_time": "2025-05-25T01:45:38.690726Z"
        }
      },
      "source": [
        "# define our model class\n",
        "class LSTM(nn.Module):\n",
        "    def __init__(self, vocab_size, embedding_dim, lstm1_hidden_size, lstm2_hidden_size, dense_hidden_size, output_size, dropout_p=0.5):\n",
        "        super(LSTM, self).__init__()\n",
        "        self.embedding = nn.Embedding(vocab_size, embedding_dim)\n",
        "        self.dropout_embed = nn.Dropout(dropout_p)\n",
        "\n",
        "        self.lstm1 = nn.LSTM(embedding_dim,\n",
        "                             lstm1_hidden_size,\n",
        "                             num_layers=1,\n",
        "                             batch_first=True,\n",
        "                             bidirectional=True)\n",
        "        self.dropout_lstm1 = nn.Dropout(dropout_p)\n",
        "\n",
        "        self.lstm2 = nn.LSTM(lstm1_hidden_size * 2,\n",
        "                             lstm2_hidden_size,\n",
        "                             num_layers=1,\n",
        "                             batch_first=True,\n",
        "                             bidirectional=True)\n",
        "        self.dropout_lstm2 = nn.Dropout(dropout_p)\n",
        "\n",
        "        self.fc1 = nn.Linear(lstm2_hidden_size * 2, dense_hidden_size)\n",
        "        self.relu = nn.ReLU()\n",
        "        self.dropout_fc1 = nn.Dropout(dropout_p)\n",
        "\n",
        "        # Final output layer\n",
        "        self.fc2 = nn.Linear(dense_hidden_size, output_size)\n",
        "\n",
        "    def forward(self, x):\n",
        "        x = self.embedding(x)\n",
        "        x = self.dropout_embed(x) # Shape: (batch_size, seq_len, embedding_dim)\n",
        "\n",
        "        lstm1_out, _ = self.lstm1(x)\n",
        "        lstm1_out = self.dropout_lstm1(lstm1_out)\n",
        "\n",
        "        _, (hn_lstm2, cn_lstm2) = self.lstm2(lstm1_out)\n",
        "\n",
        "        hidden_combined = torch.cat((hn_lstm2[0, :, :], hn_lstm2[1, :, :]), dim=1)\n",
        "\n",
        "        out_fc1 = self.fc1(hidden_combined)\n",
        "        out_relu = self.relu(out_fc1)\n",
        "        out_dropout_fc1 = self.dropout_fc1(out_relu)\n",
        "\n",
        "        # Final output layer\n",
        "        out = self.fc2(out_dropout_fc1) # Shape: (batch_size, output_size)\n",
        "        return out"
      ],
      "outputs": [],
      "execution_count": 30
    },
    {
      "cell_type": "code",
      "execution_count": 31,
      "id": "14db5d657b1d5f4",
      "metadata": {
        "ExecuteTime": {
          "end_time": "2025-05-26T02:55:54.694404700Z",
          "start_time": "2025-05-23T03:08:17.181673Z"
        },
        "colab": {
          "base_uri": "https://localhost:8080/"
        },
        "id": "14db5d657b1d5f4",
        "outputId": "71211b6e-b518-41dc-a5ba-50e5a7793559"
      },
      "outputs": [
        {
          "output_type": "stream",
          "name": "stdout",
          "text": [
            "Epoch [1/10], Training Loss: 0.6330\n",
            "Epoch [1/10], Validation Loss: 0.6203\n",
            "Epoch [2/10], Training Loss: 0.4522\n",
            "Epoch [2/10], Validation Loss: 0.4265\n",
            "Epoch [3/10], Training Loss: 0.3326\n",
            "Epoch [3/10], Validation Loss: 0.3690\n",
            "Epoch [4/10], Training Loss: 0.2748\n",
            "Epoch [4/10], Validation Loss: 0.3908\n",
            "Epoch [5/10], Training Loss: 0.2266\n",
            "Epoch [5/10], Validation Loss: 0.3937\n",
            "Epoch [6/10], Training Loss: 0.1816\n",
            "Epoch [6/10], Validation Loss: 0.4026\n",
            "Epoch [7/10], Training Loss: 0.1411\n",
            "Epoch [7/10], Validation Loss: 0.4267\n",
            "Epoch [8/10], Training Loss: 0.1131\n",
            "Epoch [8/10], Validation Loss: 0.4508\n",
            "Epoch [9/10], Training Loss: 0.0816\n",
            "Epoch [9/10], Validation Loss: 0.5180\n",
            "Epoch [10/10], Training Loss: 0.0673\n",
            "Epoch [10/10], Validation Loss: 0.6007\n",
            "Training complete.\n"
          ]
        }
      ],
      "source": [
        "embedding_dim = 256\n",
        "lstm1_hidden_size = 128\n",
        "lstm2_hidden_size = 64\n",
        "dense_hidden_size = 64\n",
        "dropout_rate = 0.2\n",
        "\n",
        "output_size = 2 # binary classification (remains the same)\n",
        "epochs = 10  # Keep as is, or tune\n",
        "\n",
        "# Instantiate the model with new parameters\n",
        "lstm_model = LSTM(vocab_size,\n",
        "            embedding_dim,\n",
        "            lstm1_hidden_size,\n",
        "            lstm2_hidden_size,\n",
        "            dense_hidden_size,\n",
        "            output_size,\n",
        "            dropout_p=dropout_rate).to(device)\n",
        "training_losses, val_losses = train_model(lstm_model, epochs)"
      ]
    },
    {
      "cell_type": "code",
      "execution_count": 32,
      "id": "6s4NpdLGyHnk",
      "metadata": {
        "colab": {
          "base_uri": "https://localhost:8080/"
        },
        "id": "6s4NpdLGyHnk",
        "outputId": "86904de6-c286-488e-bb90-416f986d2c1d"
      },
      "outputs": [
        {
          "output_type": "stream",
          "name": "stdout",
          "text": [
            "Accuracy of the model on the test data: 85.25%\n",
            "              precision    recall  f1-score   support\n",
            "\n",
            "    Negative       0.84      0.87      0.86     12500\n",
            "    Positive       0.87      0.83      0.85     12500\n",
            "\n",
            "    accuracy                           0.85     25000\n",
            "   macro avg       0.85      0.85      0.85     25000\n",
            "weighted avg       0.85      0.85      0.85     25000\n",
            "\n"
          ]
        }
      ],
      "source": [
        "report = test_model(lstm_model)\n",
        "print(report)"
      ]
    },
    {
      "metadata": {
        "id": "53819da064862fdb",
        "outputId": "26565295-8f89-4eb3-c6db-64e8d3feb5f2",
        "colab": {
          "base_uri": "https://localhost:8080/",
          "height": 872
        }
      },
      "cell_type": "code",
      "outputs": [
        {
          "output_type": "display_data",
          "data": {
            "text/plain": [
              "<Figure size 1000x1000 with 1 Axes>"
            ],
            "image/png": "[encoded data removed]"
          },
          "metadata": {}
        }
      ],
      "execution_count": 36,
      "source": [
        "plt.figure(figsize=(10, 10))\n",
        "plt.plot(training_losses, label='Validation Loss', color='blue')\n",
        "plt.title(\"Training Loss over Epoch\")\n",
        "plt.xlabel('Epoch')\n",
        "plt.ylabel('Loss')\n",
        "plt.grid(True)\n",
        "plt.legend()\n",
        "plt.show()"
      ],
      "id": "53819da064862fdb"
    }
  ],
  "metadata": {
    "accelerator": "GPU",
    "colab": {
      "gpuType": "T4",
      "provenance": [],
      "toc_visible": true
    },
    "kernelspec": {
      "display_name": "Python 3 (ipykernel)",
      "name": "python3",
      "language": "python"
    },
    "language_info": {
      "codemirror_mode": {
        "name": "ipython",
        "version": 3
      },
      "file_extension": ".py",
      "mimetype": "text/x-python",
      "name": "python",
      "nbconvert_exporter": "python",
      "pygments_lexer": "ipython3",
      "version": "3.12.2"
    }
  },
  "nbformat": 4,
  "nbformat_minor": 5
}