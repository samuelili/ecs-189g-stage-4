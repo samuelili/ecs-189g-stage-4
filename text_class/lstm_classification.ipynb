{
 "cells": [
  {
   "cell_type": "code",
   "id": "1c0236cb2c248c6e",
   "metadata": {
    "id": "1c0236cb2c248c6e",
    "ExecuteTime": {
     "end_time": "2025-05-26T03:39:38.653670Z",
     "start_time": "2025-05-26T03:39:37.914074Z"
    }
   },
   "source": [
    "# define import\n",
    "import torch\n",
    "import torch.nn as nn\n",
    "import torch.optim as optim\n",
    "from sklearn.metrics import classification_report\n",
    "from torch.nn.utils.rnn import pad_sequence\n",
    "import matplotlib.pyplot as plt\n",
    "import numpy as np"
   ],
   "outputs": [],
   "execution_count": 54
  },
  {
   "cell_type": "markdown",
   "id": "a258d92701d9161e",
   "metadata": {
    "id": "a258d92701d9161e"
   },
   "source": [
    "# Data Loading Pre-processing"
   ]
  },
  {
   "cell_type": "code",
   "id": "initial_id",
   "metadata": {
    "colab": {
     "base_uri": "https://localhost:8080/"
    },
    "collapsed": true,
    "id": "initial_id",
    "outputId": "8c4192b6-cc26-4e8c-e3ee-4acc2e88b1fe",
    "ExecuteTime": {
     "end_time": "2025-05-26T02:54:40.180356Z",
     "start_time": "2025-05-26T02:54:38.724963Z"
    }
   },
   "source": [
    "import pickle\n",
    "import random\n",
    "\n",
    "with open(\"text_classification_train_words\", \"rb\") as f:\n",
    "    train = pickle.load(f)\n",
    "\n",
    "with open(\"text_classification_test_words\", \"rb\") as f:\n",
    "    test = pickle.load(f)\n",
    "\n",
    "print(f\"{len(train)} samples in train\")\n",
    "print(f\"{train[random.randint(0, len(train) - 1)]}\")\n",
    "print(f\"{len(test)} samples in test\")\n",
    "print(f\"{test[random.randint(0, len(test) - 1)]}\")\n",
    "print(len(train[0]['text']))"
   ],
   "outputs": [
    {
     "name": "stdout",
     "output_type": "stream",
     "text": [
      "25000 samples in train\n",
      "{'id': '2189', 'rating': 2, 'label': 0, 'text': 'This movie tells the tender tale of a demented scientist who, after his fiance is decapitated, goes around ogling strippers so that he can find a suitable body to attach her noggin to. Everyone in this movie exudes more slime than a snail, particularly our protagonist.', 'words': ['movie', 'tells', 'tender', 'tale', 'demented', 'scientist', 'fiance', 'decapitated', 'goes', 'around', 'ogling', 'strippers', 'find', 'suitable', 'body', 'attach', 'noggin', 'everyone', 'movie', 'exudes', 'slime', 'snail', 'particularly', 'protagonist']}\n",
      "25000 samples in test\n",
      "{'id': '8321', 'rating': 1, 'label': 0, 'text': 'Are we serious??? I mean wow ... just, wow. I think I saw this flick in an old issue of War Journal. This is pathetic, originality is completely dead, instead of trying to formulate a new idea what we receive is a bland re-do of an old plot line and to \"switch it up\" we just change the gender or race of the original character it\\'s moronic and everyone should be sick and tired of seeing it ... but I guess this is just a rant and will most likely fall on deaf ears to engrossed with the sound of another turd hitting the toilet water like the best western since 3:10 to Yuma ... (wait for it)... 3:10 to Yuma! Thank You Hollywood for killing film as an art form and turning it into a commercial barrage of neo-pop junk and blatant retardation ... wonderful!!!', 'words': ['serious', 'mean', 'wow', 'wow', 'think', 'saw', 'flick', 'old', 'issue', 'war', 'journal', 'pathetic', 'originality', 'completely', 'dead', 'instead', 'trying', 'formulate', 'new', 'idea', 'receive', 'bland', 'redo', 'old', 'plot', 'line', 'switch', 'change', 'gender', 'race', 'original', 'character', 'moronic', 'everyone', 'sick', 'tired', 'seeing', 'guess', 'rant', 'likely', 'fall', 'deaf', 'ears', 'engrossed', 'sound', 'another', 'turd', 'hitting', 'toilet', 'water', 'like', 'best', 'western', 'since', 'yuma', 'wait', 'yuma', 'thank', 'hollywood', 'killing', 'film', 'art', 'form', 'turning', 'commercial', 'barrage', 'neopop', 'junk', 'blatant', 'retardation', 'wonderful']}\n",
      "655\n"
     ]
    }
   ],
   "execution_count": 5
  },
  {
   "cell_type": "code",
   "id": "f61adfab216d51ba",
   "metadata": {
    "colab": {
     "base_uri": "https://localhost:8080/"
    },
    "id": "f61adfab216d51ba",
    "outputId": "d3a9b945-1a9f-48a1-d623-64c56abb3d29",
    "ExecuteTime": {
     "end_time": "2025-05-26T02:54:41.792356Z",
     "start_time": "2025-05-26T02:54:40.286383Z"
    }
   },
   "source": [
    "# get vocab size\n",
    "vocab = set()\n",
    "i = 0\n",
    "for sample in train + test:\n",
    "    for word in sample['words']:\n",
    "        vocab.add(word)\n",
    "\n",
    "vocab_size = len(vocab)\n",
    "print(f\"Found a vocab size of {vocab_size}\")"
   ],
   "outputs": [
    {
     "name": "stdout",
     "output_type": "stream",
     "text": [
      "Found a vocab size of 133264\n"
     ]
    }
   ],
   "execution_count": 6
  },
  {
   "cell_type": "markdown",
   "id": "422f662087b7a7aa",
   "metadata": {
    "id": "422f662087b7a7aa"
   },
   "source": [
    "## Prepare to be embeddings"
   ]
  },
  {
   "cell_type": "code",
   "id": "d43f1d11acce111c",
   "metadata": {
    "id": "d43f1d11acce111c",
    "ExecuteTime": {
     "end_time": "2025-05-26T02:54:42.074689Z",
     "start_time": "2025-05-26T02:54:41.985857Z"
    }
   },
   "source": [
    "torch.manual_seed(1)\n",
    "\n",
    "word_to_ix = {}\n",
    "\n",
    "for i, word in enumerate(vocab):\n",
    "    word_to_ix[word] = i"
   ],
   "outputs": [],
   "execution_count": 7
  },
  {
   "cell_type": "markdown",
   "id": "65934447f34331d2",
   "metadata": {
    "id": "65934447f34331d2"
   },
   "source": [
    "##  Split Training Data"
   ]
  },
  {
   "cell_type": "code",
   "id": "18407271bb55f5eb",
   "metadata": {
    "id": "18407271bb55f5eb",
    "ExecuteTime": {
     "end_time": "2025-05-26T02:55:44.165302Z",
     "start_time": "2025-05-26T02:54:42.422228Z"
    }
   },
   "source": [
    "def create_dataset(dataset):\n",
    "    X, Y = [], []\n",
    "    for data in dataset:\n",
    "        embeddings = torch.tensor([torch.tensor([word_to_ix[word]], dtype=torch.long) for word in data['words']])\n",
    "        X.append(embeddings)\n",
    "        Y.append(data['label'])\n",
    "\n",
    "    return pad_sequence(X, batch_first=True), torch.tensor(Y)\n",
    "\n",
    "\n",
    "X_train, Y_train = create_dataset(train)\n",
    "X_test, Y_test = create_dataset(test)"
   ],
   "outputs": [],
   "execution_count": 8
  },
  {
   "cell_type": "markdown",
   "id": "d7e29aaf5421f085",
   "metadata": {
    "id": "d7e29aaf5421f085"
   },
   "source": [
    "# Prepare For Training"
   ]
  },
  {
   "cell_type": "code",
   "id": "beccbd9c58e6f651",
   "metadata": {
    "colab": {
     "base_uri": "https://localhost:8080/"
    },
    "id": "beccbd9c58e6f651",
    "outputId": "e2a221ce-08a0-4fe5-cdd7-9ffcc4f98280",
    "ExecuteTime": {
     "end_time": "2025-05-26T02:55:45.585864Z",
     "start_time": "2025-05-26T02:55:44.525905Z"
    }
   },
   "source": [
    "# device\n",
    "device = torch.device(\"cuda\" if torch.cuda.is_available() else \"cpu\")\n",
    "print(f\"using device: {device}\")"
   ],
   "outputs": [
    {
     "name": "stdout",
     "output_type": "stream",
     "text": [
      "using device: cuda\n"
     ]
    }
   ],
   "execution_count": 9
  },
  {
   "metadata": {},
   "cell_type": "markdown",
   "source": "## Training Func",
   "id": "9c9b0f8007219ca1"
  },
  {
   "metadata": {
    "ExecuteTime": {
     "end_time": "2025-05-26T03:23:19.972249Z",
     "start_time": "2025-05-26T03:23:19.946549Z"
    }
   },
   "cell_type": "code",
   "source": [
    "learning_rate = 0.001 # Keep as is, or tune\n",
    "def train_model(model, epochs):\n",
    "    # Instantiate the model\n",
    "    train_data = torch.utils.data.TensorDataset(X_train, Y_train)\n",
    "    train_loader = torch.utils.data.DataLoader(train_data, batch_size=64, shuffle=True)\n",
    "    \n",
    "    val_data = torch.utils.data.TensorDataset(X_test, Y_test)\n",
    "    val_loader = torch.utils.data.DataLoader(val_data, batch_size=64, shuffle=False)\n",
    "    \n",
    "    criterion = nn.CrossEntropyLoss()\n",
    "    optimizer = optim.Adam(model.parameters(), lr=learning_rate)\n",
    "    \n",
    "    training_losses = []\n",
    "    val_losses = []\n",
    "    \n",
    "    for epoch in range(epochs):\n",
    "        # Training phase\n",
    "        model.train()\n",
    "        train_loss_epoch = 0\n",
    "        num_batches = len(train_loader)\n",
    "        for i, (batch_X, batch_y) in enumerate(train_loader):\n",
    "            batch_X, batch_y = batch_X.to(device), batch_y.to(device)\n",
    "            outputs = model(batch_X)\n",
    "            loss = criterion(outputs, batch_y)\n",
    "    \n",
    "            optimizer.zero_grad()\n",
    "            loss.backward()\n",
    "            optimizer.step()\n",
    "            train_loss_epoch += loss.item()\n",
    "            print(f\"Batch [{i}/{num_batches}]\\r\", end=\"\")\n",
    "        avg_train_loss = train_loss_epoch / len(train_loader)\n",
    "        training_losses.append(avg_train_loss)\n",
    "        print(f'Epoch [{epoch + 1}/{epochs}], Training Loss: {avg_train_loss:.4f}\\r')\n",
    "    \n",
    "        # Validation phase\n",
    "        model.eval()\n",
    "        val_loss = 0\n",
    "        with torch.no_grad():\n",
    "            for batch_X_val, batch_y_val in val_loader:\n",
    "                batch_X_val, batch_y_val = batch_X_val.to(device), batch_y_val.to(device) # Uncomment if using GPU\n",
    "                outputs_val = model(batch_X_val)\n",
    "                loss_val = criterion(outputs_val, batch_y_val)\n",
    "                val_loss += loss_val.item()\n",
    "    \n",
    "        avg_val_loss = val_loss / len(val_loader)\n",
    "        print(f'Epoch [{epoch + 1}/{epochs}], Validation Loss: {avg_val_loss:.4f}')\n",
    "        val_losses.append(avg_val_loss)\n",
    "    \n",
    "    print(\"Training complete.\")\n",
    "    return training_losses, val_losses\n",
    "    \n",
    "def test_model(model):\n",
    "    # Calculate accuracy on the test set\n",
    "    model.eval()  # Set the model to evaluation mode\n",
    "    all_predicted_labels = []\n",
    "    all_true_labels = []\n",
    "    with torch.no_grad():\n",
    "        correct = 0\n",
    "        total = 0\n",
    "        # Create a DataLoader for the test set\n",
    "        test_loader = torch.utils.data.DataLoader(torch.utils.data.TensorDataset(X_test, Y_test), batch_size=64, shuffle=False)\n",
    "        for batch_X_test, batch_y_test in test_loader:\n",
    "            batch_X_test, batch_y_test = batch_X_test.to(device), batch_y_test.to(device)\n",
    "            outputs_test = model(batch_X_test)\n",
    "            _, predicted = torch.max(outputs_test.data, 1)\n",
    "            total += batch_y_test.size(0)\n",
    "            correct += (predicted == batch_y_test).sum().item()\n",
    "            \n",
    "            all_true_labels.extend(batch_y_test.cpu().numpy())\n",
    "            all_predicted_labels.extend(predicted.cpu().numpy())\n",
    "    \n",
    "        accuracy = 100 * correct / total\n",
    "        print(f'Accuracy of the model on the test data: {accuracy:.2f}%')\n",
    "        \n",
    "        report = classification_report(all_true_labels, all_predicted_labels, target_names=[\"Negative\", \"Positive\"])\n",
    "        return report"
   ],
   "id": "edf6db619d5e2709",
   "outputs": [],
   "execution_count": 29
  },
  {
   "metadata": {},
   "cell_type": "markdown",
   "source": "# RNN Model",
   "id": "8847bc1931cb8cca"
  },
  {
   "metadata": {
    "ExecuteTime": {
     "end_time": "2025-05-26T03:30:30.081350Z",
     "start_time": "2025-05-26T03:30:30.057071Z"
    }
   },
   "cell_type": "code",
   "source": [
    "# define our model class\n",
    "class RNN(nn.Module):\n",
    "    def __init__(self, vocab_size, embedding_dim, rnn1_hidden_size, rnn2_hidden_size, dense_hidden_size, dropout_p=0.5):\n",
    "        super(RNN, self).__init__()\n",
    "        self.embedding = nn.Embedding(vocab_size, embedding_dim)\n",
    "        self.dropout_embed = nn.Dropout(dropout_p)\n",
    "\n",
    "        self.rnn1 = nn.RNN(embedding_dim,\n",
    "                           rnn1_hidden_size,\n",
    "                           num_layers=1,\n",
    "                           batch_first=True,\n",
    "                           bidirectional=True)\n",
    "        self.dropout_rnn1 = nn.Dropout(dropout_p)\n",
    "\n",
    "        self.rnn2 = nn.RNN(rnn1_hidden_size * 2,\n",
    "                           rnn2_hidden_size,\n",
    "                           num_layers=1,\n",
    "                           batch_first=True,\n",
    "                           bidirectional=True)\n",
    "        self.dropout_rnn2 = nn.Dropout(dropout_p)\n",
    "\n",
    "        self.fc1 = nn.Linear(rnn2_hidden_size * 2, dense_hidden_size)\n",
    "        self.relu = nn.ReLU()\n",
    "        self.dropout_fc1 = nn.Dropout(dropout_p)\n",
    "\n",
    "        # Final output layer\n",
    "        self.fc2 = nn.Linear(dense_hidden_size, 2)\n",
    "\n",
    "    def forward(self, x):\n",
    "        x = self.embedding(x)\n",
    "        x = self.dropout_embed(x) # Shape: (batch_size, seq_len, embedding_dim)\n",
    "\n",
    "        rnn1_out, _ = self.rnn1(x)\n",
    "        rnn1_out = self.dropout_rnn1(rnn1_out)\n",
    "\n",
    "        _, hn_rnn2 = self.rnn2(rnn1_out)\n",
    "\n",
    "        hidden_combined = torch.cat((hn_rnn2[0, :, :], hn_rnn2[1, :, :]), dim=1)\n",
    "        \n",
    "        out_fc1 = self.fc1(hidden_combined)\n",
    "        out_relu = self.relu(out_fc1)\n",
    "        out_dropout_fc1 = self.dropout_fc1(out_relu)\n",
    "\n",
    "        # Final output layer\n",
    "        out = self.fc2(out_dropout_fc1) # Shape: (batch_size, output_size)\n",
    "        return out"
   ],
   "id": "8f078f2751686ca7",
   "outputs": [],
   "execution_count": 49
  },
  {
   "metadata": {
    "ExecuteTime": {
     "end_time": "2025-05-26T03:37:18.555451Z",
     "start_time": "2025-05-26T03:30:32.000238Z"
    }
   },
   "cell_type": "code",
   "source": [
    "embedding_dim = 256\n",
    "rnn1_hidden_size = 64 \n",
    "rnn2_hidden_size = 16\n",
    "dense_hidden_size = 32\n",
    "dropout_rate = 0.2\n",
    "epochs = 10  # Number of epochs\n",
    "\n",
    "# Instantiate the model\n",
    "rnn_model = RNN(vocab_size, embedding_dim, rnn1_hidden_size, rnn2_hidden_size, dense_hidden_size).to(device)\n",
    "training_losses, val_losses = train_model(rnn_model, epochs)"
   ],
   "id": "dfa011442430425",
   "outputs": [
    {
     "name": "stdout",
     "output_type": "stream",
     "text": [
      "Epoch [1/2], Training Loss: 0.6971\r\n",
      "Epoch [1/2], Validation Loss: 0.6896\n",
      "Epoch [2/2], Training Loss: 0.6895\r\n",
      "Epoch [2/2], Validation Loss: 0.6691\n",
      "Training complete.\n"
     ]
    }
   ],
   "execution_count": 50
  },
  {
   "metadata": {
    "ExecuteTime": {
     "end_time": "2025-05-26T03:37:57.230475Z",
     "start_time": "2025-05-26T03:37:31.915918Z"
    }
   },
   "cell_type": "code",
   "source": [
    "report = test_model(rnn_model)\n",
    "print(report)"
   ],
   "id": "59f0c6e8746366f0",
   "outputs": [
    {
     "name": "stdout",
     "output_type": "stream",
     "text": [
      "Accuracy of the model on the test data: 59.83%\n",
      "              precision    recall  f1-score   support\n",
      "\n",
      "    Negative       0.61      0.55      0.58     12500\n",
      "    Positive       0.59      0.64      0.62     12500\n",
      "\n",
      "    accuracy                           0.60     25000\n",
      "   macro avg       0.60      0.60      0.60     25000\n",
      "weighted avg       0.60      0.60      0.60     25000\n",
      "\n"
     ]
    }
   ],
   "execution_count": 51
  },
  {
   "metadata": {
    "ExecuteTime": {
     "end_time": "2025-05-26T03:39:42.307257Z",
     "start_time": "2025-05-26T03:39:42.077230Z"
    }
   },
   "cell_type": "code",
   "source": [
    "plt.figure(figsize=(10, 6))\n",
    "plt.plot(val_losses, label='Validation Loss', color='blue')\n",
    "plt.title(\"Validation Loss over Epoch\")\n",
    "plt.xlabel('Epoch')\n",
    "plt.ylabel('Loss')\n",
    "plt.grid(True)\n",
    "plt.legend()\n",
    "plt.show()"
   ],
   "id": "de65ea67ba532638",
   "outputs": [
    {
     "data": {
      "text/plain": [
       "<Figure size 1000x600 with 1 Axes>"
      ],
      "image/png": "[encoded data removed]"
     },
     "metadata": {},
     "output_type": "display_data"
    }
   ],
   "execution_count": 55
  },
  {
   "metadata": {
    "ExecuteTime": {
     "end_time": "2025-05-26T02:55:58.386828Z",
     "start_time": "2025-05-26T02:55:58.368265Z"
    }
   },
   "cell_type": "code",
   "source": [
    "# define our model class\n",
    "class GRU(nn.Module):\n",
    "    def __init__(self, vocab_size, embedding_dim, gru1_hidden_size, gru2_hidden_size, dense_hidden_size, output_size, dropout_p=0.5):\n",
    "        super(GRU, self).__init__()\n",
    "        self.embedding = nn.Embedding(vocab_size, embedding_dim)\n",
    "        self.dropout_embed = nn.Dropout(dropout_p)\n",
    "\n",
    "        self.gru1 = nn.GRU(embedding_dim,\n",
    "                           gru1_hidden_size,\n",
    "                           num_layers=1,\n",
    "                           batch_first=True,\n",
    "                           bidirectional=True)\n",
    "        self.dropout_gru1 = nn.Dropout(dropout_p)\n",
    "\n",
    "        self.gru2 = nn.GRU(gru1_hidden_size * 2,\n",
    "                           gru2_hidden_size,\n",
    "                           num_layers=1,\n",
    "                           batch_first=True,\n",
    "                           bidirectional=True)\n",
    "        self.dropout_gru2 = nn.Dropout(dropout_p)\n",
    "\n",
    "        self.fc1 = nn.Linear(gru2_hidden_size * 2, dense_hidden_size)\n",
    "        self.relu = nn.ReLU()\n",
    "        self.dropout_fc1 = nn.Dropout(dropout_p)\n",
    "\n",
    "        # Final output layer\n",
    "        self.fc2 = nn.Linear(dense_hidden_size, output_size)\n",
    "\n",
    "    def forward(self, x):\n",
    "        x = self.embedding(x)\n",
    "        x = self.dropout_embed(x) # Shape: (batch_size, seq_len, embedding_dim)\n",
    "\n",
    "        gru1_out, _ = self.gru1(x)\n",
    "        gru1_out = self.dropout_gru1(gru1_out)\n",
    "\n",
    "        _, hn_gru2 = self.gru2(gru1_out)\n",
    "\n",
    "        hidden_combined = torch.cat((hn_gru2[0, :, :], hn_gru2[1, :, :]), dim=1)\n",
    "        \n",
    "        out_fc1 = self.fc1(hidden_combined)\n",
    "        out_relu = self.relu(out_fc1)\n",
    "        out_dropout_fc1 = self.dropout_fc1(out_relu)\n",
    "\n",
    "        # Final output layer\n",
    "        out = self.fc2(out_dropout_fc1) # Shape: (batch_size, output_size)\n",
    "        return out"
   ],
   "id": "d250f552cab7ef9c",
   "outputs": [],
   "execution_count": 13
  },
  {
   "metadata": {
    "ExecuteTime": {
     "end_time": "2025-05-26T03:11:13.136855Z",
     "start_time": "2025-05-26T03:03:24.063461Z"
    }
   },
   "cell_type": "code",
   "source": [
    "embedding_dim = 256\n",
    "gru1_hidden_size = 128 \n",
    "gru2_hidden_size = 64\n",
    "dense_hidden_size = 64\n",
    "dropout_rate = 0.2\n",
    "\n",
    "output_size = 2 # binary classification (remains the same)\n",
    "learning_rate = 0.001 # Keep as is, or tune\n",
    "epochs = 10  # Keep as is, or tune\n",
    "\n",
    "# Instantiate the model with new parameters\n",
    "gru_model = GRU(vocab_size,\n",
    "            embedding_dim,\n",
    "            gru1_hidden_size,\n",
    "            gru2_hidden_size,\n",
    "            dense_hidden_size,\n",
    "            output_size,\n",
    "            dropout_p=dropout_rate).to(device)\n",
    "training_losses, val_losses = train_model(gru_model, epochs)"
   ],
   "id": "91a473b4c8b19730",
   "outputs": [
    {
     "name": "stdout",
     "output_type": "stream",
     "text": [
      "Epoch [1/2], Training Loss: 0.6267\r\n",
      "Epoch [1/2], Validation Loss: 0.5482\n",
      "Epoch [2/2], Training Loss: 0.3970\r\n",
      "Epoch [2/2], Validation Loss: 0.3288\n",
      "Training complete.\n"
     ]
    }
   ],
   "execution_count": 16
  },
  {
   "metadata": {},
   "cell_type": "code",
   "outputs": [],
   "execution_count": null,
   "source": [
    "report = test_model(gru_model)\n",
    "print(report)"
   ],
   "id": "5408a01860f6b771"
  },
  {
   "metadata": {},
   "cell_type": "code",
   "outputs": [],
   "execution_count": null,
   "source": [
    "plt.figure(figsize=(10, 6))\n",
    "plt.plot(val_losses, label='Validation Loss', color='blue')\n",
    "plt.title(\"Validation Loss over Epoch\")\n",
    "plt.xlabel('Epoch')\n",
    "plt.ylabel('Loss')\n",
    "plt.grid(True)\n",
    "plt.legend()\n",
    "plt.show()"
   ],
   "id": "18060b8ae08c2a98"
  },
  {
   "metadata": {},
   "cell_type": "markdown",
   "source": "# LSTM Model",
   "id": "99b4e4f2ce14aa81"
  },
  {
   "cell_type": "code",
   "id": "e2323b225572426c",
   "metadata": {
    "id": "e2323b225572426c",
    "ExecuteTime": {
     "end_time": "2025-05-26T02:55:54.694404700Z",
     "start_time": "2025-05-25T01:45:38.690726Z"
    }
   },
   "source": [
    "# define our model class\n",
    "class LSTM(nn.Module):\n",
    "    def __init__(self, vocab_size, embedding_dim, lstm1_hidden_size, lstm2_hidden_size, dense_hidden_size, output_size, dropout_p=0.5):\n",
    "        super(LSTM, self).__init__()\n",
    "        self.embedding = nn.Embedding(vocab_size, embedding_dim)\n",
    "        self.dropout_embed = nn.Dropout(dropout_p)\n",
    "\n",
    "        self.lstm1 = nn.LSTM(embedding_dim,\n",
    "                             lstm1_hidden_size,\n",
    "                             num_layers=1,\n",
    "                             batch_first=True,\n",
    "                             bidirectional=True)\n",
    "        self.dropout_lstm1 = nn.Dropout(dropout_p)\n",
    "\n",
    "        self.lstm2 = nn.LSTM(lstm1_hidden_size * 2,\n",
    "                             lstm2_hidden_size,\n",
    "                             num_layers=1,\n",
    "                             batch_first=True,\n",
    "                             bidirectional=True)\n",
    "        self.dropout_lstm2 = nn.Dropout(dropout_p)\n",
    "\n",
    "        self.fc1 = nn.Linear(lstm2_hidden_size * 2, dense_hidden_size)\n",
    "        self.relu = nn.ReLU()\n",
    "        self.dropout_fc1 = nn.Dropout(dropout_p)\n",
    "\n",
    "        # Final output layer\n",
    "        self.fc2 = nn.Linear(dense_hidden_size, output_size)\n",
    "\n",
    "    def forward(self, x):\n",
    "        x = self.embedding(x)\n",
    "        x = self.dropout_embed(x) # Shape: (batch_size, seq_len, embedding_dim)\n",
    "\n",
    "        lstm1_out, _ = self.lstm1(x)\n",
    "        lstm1_out = self.dropout_lstm1(lstm1_out)\n",
    "\n",
    "        _, hn_gru2 = self.lstm2(lstm1_out)\n",
    "\n",
    "        hidden_combined = torch.cat((hn_gru2[0, :, :], hn_gru2[1, :, :]), dim=1)\n",
    "        \n",
    "        out_fc1 = self.fc1(hidden_combined)\n",
    "        out_relu = self.relu(out_fc1)\n",
    "        out_dropout_fc1 = self.dropout_fc1(out_relu)\n",
    "\n",
    "        # Final output layer\n",
    "        out = self.fc2(out_dropout_fc1) # Shape: (batch_size, output_size)\n",
    "        return out"
   ],
   "outputs": [],
   "execution_count": 8
  },
  {
   "cell_type": "code",
   "execution_count": 9,
   "id": "14db5d657b1d5f4",
   "metadata": {
    "ExecuteTime": {
     "end_time": "2025-05-26T02:55:54.694404700Z",
     "start_time": "2025-05-23T03:08:17.181673Z"
    },
    "colab": {
     "base_uri": "https://localhost:8080/"
    },
    "id": "14db5d657b1d5f4",
    "outputId": "2b1a10c5-30ee-49ab-cc3d-2065614c1b83"
   },
   "outputs": [
    {
     "name": "stdout",
     "output_type": "stream",
     "text": [
      "Original dataset size: 25000\n",
      "Training subset size: 22500\n",
      "Validation subset size: 2500\n",
      "Number of trainable parameters: 34684098\n",
      "Epoch [1/20], Training Loss: 0.6199\n",
      "Epoch [1/20], Validation Loss: 0.6827\n",
      "Epoch [2/20], Training Loss: 0.4863\n",
      "Epoch [2/20], Validation Loss: 0.4151\n",
      "Epoch [3/20], Training Loss: 0.3312\n",
      "Epoch [3/20], Validation Loss: 0.3368\n",
      "Epoch [4/20], Training Loss: 0.2483\n",
      "Epoch [4/20], Validation Loss: 0.3790\n",
      "Epoch [5/20], Training Loss: 0.1846\n",
      "Epoch [5/20], Validation Loss: 0.3731\n",
      "Epoch [6/20], Training Loss: 0.1324\n",
      "Epoch [6/20], Validation Loss: 0.3778\n",
      "Epoch [7/20], Training Loss: 0.0931\n",
      "Epoch [7/20], Validation Loss: 0.3789\n",
      "Epoch [8/20], Training Loss: 0.0680\n",
      "Epoch [8/20], Validation Loss: 0.4354\n",
      "Epoch [9/20], Training Loss: 0.0463\n",
      "Epoch [9/20], Validation Loss: 0.5011\n",
      "Epoch [10/20], Training Loss: 0.0354\n",
      "Epoch [10/20], Validation Loss: 0.5169\n",
      "Epoch [11/20], Training Loss: 0.0317\n",
      "Epoch [11/20], Validation Loss: 0.5119\n",
      "Epoch [12/20], Training Loss: 0.0291\n",
      "Epoch [12/20], Validation Loss: 0.5449\n",
      "Epoch [13/20], Training Loss: 0.0245\n",
      "Epoch [13/20], Validation Loss: 0.5766\n",
      "Epoch [14/20], Training Loss: 0.0194\n",
      "Epoch [14/20], Validation Loss: 0.5903\n",
      "Epoch [15/20], Training Loss: 0.0202\n",
      "Epoch [15/20], Validation Loss: 0.5995\n",
      "Epoch [16/20], Training Loss: 0.0182\n",
      "Epoch [16/20], Validation Loss: 0.5729\n",
      "Epoch [17/20], Training Loss: 0.0139\n",
      "Epoch [17/20], Validation Loss: 0.6135\n",
      "Epoch [18/20], Training Loss: 0.0156\n",
      "Epoch [18/20], Validation Loss: 0.6408\n",
      "Epoch [19/20], Training Loss: 0.0097\n",
      "Epoch [19/20], Validation Loss: 0.7470\n",
      "Epoch [20/20], Training Loss: 0.0114\n",
      "Epoch [20/20], Validation Loss: 0.6971\n",
      "Training complete.\n"
     ]
    }
   ],
   "source": [
    "embedding_dim = 256\n",
    "lstm1_hidden_size = 128 \n",
    "lstm2_hidden_size = 64\n",
    "dense_hidden_size = 64\n",
    "dropout_rate = 0.2\n",
    "\n",
    "output_size = 2 # binary classification (remains the same)\n",
    "epochs = 10  # Keep as is, or tune\n",
    "\n",
    "# Instantiate the model with new parameters\n",
    "lstm_model = LSTM(vocab_size,\n",
    "            embedding_dim,\n",
    "            gru1_hidden_size,\n",
    "            gru2_hidden_size,\n",
    "            dense_hidden_size,\n",
    "            output_size,\n",
    "            dropout_p=dropout_rate).to(device)\n",
    "training_losses, val_losses = train_model(lstm_model, epochs)"
   ]
  },
  {
   "cell_type": "code",
   "execution_count": 10,
   "id": "6s4NpdLGyHnk",
   "metadata": {
    "colab": {
     "base_uri": "https://localhost:8080/"
    },
    "id": "6s4NpdLGyHnk",
    "outputId": "0ba362a8-70ca-4c26-deac-ad00cbf3512b"
   },
   "outputs": [
    {
     "name": "stdout",
     "output_type": "stream",
     "text": [
      "Accuracy of the model on the test data: 85.27%\n"
     ]
    }
   ],
   "source": [
    "report = test_model(lstm_model)\n",
    "print(report)"
   ]
  },
  {
   "metadata": {},
   "cell_type": "code",
   "outputs": [],
   "execution_count": null,
   "source": [
    "plt.figure(figsize=(10, 6))\n",
    "plt.plot(val_losses, label='Validation Loss', color='blue')\n",
    "plt.title(\"Validation Loss over Epoch\")\n",
    "plt.xlabel('Epoch')\n",
    "plt.ylabel('Loss')\n",
    "plt.grid(True)\n",
    "plt.legend()\n",
    "plt.show()"
   ],
   "id": "53819da064862fdb"
  }
 ],
 "metadata": {
  "accelerator": "GPU",
  "colab": {
   "gpuType": "T4",
   "provenance": []
  },
  "kernelspec": {
   "display_name": "Python 3 (ipykernel)",
   "name": "python3",
   "language": "python"
  },
  "language_info": {
   "codemirror_mode": {
    "name": "ipython",
    "version": 3
   },
   "file_extension": ".py",
   "mimetype": "text/x-python",
   "name": "python",
   "nbconvert_exporter": "python",
   "pygments_lexer": "ipython3",
   "version": "3.12.2"
  }
 },
 "nbformat": 4,
 "nbformat_minor": 5
}
